{
 "cells": [
  {
   "cell_type": "code",
   "execution_count": 45,
   "id": "initial_id",
   "metadata": {
    "collapsed": true,
    "ExecuteTime": {
     "end_time": "2024-05-02T14:56:26.799778200Z",
     "start_time": "2024-05-02T14:56:26.791768900Z"
    }
   },
   "outputs": [],
   "source": [
    "import pandas as pd\n",
    "\n",
    "import matplotlib.pyplot as plt"
   ]
  },
  {
   "cell_type": "markdown",
   "source": [
    "Run it to read the CSV file into a DataFrame"
   ],
   "metadata": {
    "collapsed": false
   },
   "id": "13734a369c8d6c61"
  },
  {
   "cell_type": "code",
   "outputs": [
    {
     "data": {
      "text/plain": "                     name                                       technologies  \\\n0       Python-програміст  CSS,HTML,JavaScript,Python,PostgreSQL,Flask,Ce...   \n1       Python-програміст                      Python,MongoDB,FastAPI,OpenAI   \n2       Python-програміст  Java,PHP,MySQL,Git,GitHub,GitLab,JavaScript,Py...   \n3  Викладач програмування               JavaScript,Java,Python,Програмування   \n4       Python-програміст  Python,Responsibility,Machine learning,Deep Le...   \n\n  posted_date                            company  \n0  2024-05-01                 Дервішов І.Г., ФОП  \n1  2024-04-29                        Vilmate LLC  \n2  2024-04-29                           PNN Soft  \n3  2024-04-29  Hammer Gym, мережа фітнес-центрів  \n4  2024-04-27                        Logivations  ",
      "text/html": "<div>\n<style scoped>\n    .dataframe tbody tr th:only-of-type {\n        vertical-align: middle;\n    }\n\n    .dataframe tbody tr th {\n        vertical-align: top;\n    }\n\n    .dataframe thead th {\n        text-align: right;\n    }\n</style>\n<table border=\"1\" class=\"dataframe\">\n  <thead>\n    <tr style=\"text-align: right;\">\n      <th></th>\n      <th>name</th>\n      <th>technologies</th>\n      <th>posted_date</th>\n      <th>company</th>\n    </tr>\n  </thead>\n  <tbody>\n    <tr>\n      <th>0</th>\n      <td>Python-програміст</td>\n      <td>CSS,HTML,JavaScript,Python,PostgreSQL,Flask,Ce...</td>\n      <td>2024-05-01</td>\n      <td>Дервішов І.Г., ФОП</td>\n    </tr>\n    <tr>\n      <th>1</th>\n      <td>Python-програміст</td>\n      <td>Python,MongoDB,FastAPI,OpenAI</td>\n      <td>2024-04-29</td>\n      <td>Vilmate LLC</td>\n    </tr>\n    <tr>\n      <th>2</th>\n      <td>Python-програміст</td>\n      <td>Java,PHP,MySQL,Git,GitHub,GitLab,JavaScript,Py...</td>\n      <td>2024-04-29</td>\n      <td>PNN Soft</td>\n    </tr>\n    <tr>\n      <th>3</th>\n      <td>Викладач програмування</td>\n      <td>JavaScript,Java,Python,Програмування</td>\n      <td>2024-04-29</td>\n      <td>Hammer Gym, мережа фітнес-центрів</td>\n    </tr>\n    <tr>\n      <th>4</th>\n      <td>Python-програміст</td>\n      <td>Python,Responsibility,Machine learning,Deep Le...</td>\n      <td>2024-04-27</td>\n      <td>Logivations</td>\n    </tr>\n  </tbody>\n</table>\n</div>"
     },
     "execution_count": 74,
     "metadata": {},
     "output_type": "execute_result"
    }
   ],
   "source": [
    "df = pd.read_csv(\"technologies.csv\")\n",
    "df.head()"
   ],
   "metadata": {
    "collapsed": false,
    "ExecuteTime": {
     "end_time": "2024-05-02T15:45:18.947605700Z",
     "start_time": "2024-05-02T15:45:18.911509800Z"
    }
   },
   "id": "252e17a8176f9441",
   "execution_count": 74
  },
  {
   "cell_type": "markdown",
   "source": [
    "This code performs the following steps:\n",
    "\n",
    "1. Splitting the technologies listed in the \"technologies\" column into separate entries and converting them into a list of lists.\n",
    "\n",
    "2. Creating a new column called \"all_technologies\" containing a list of technologies for each record.\n",
    "\n",
    "3. Exploding the list of technologies in the new \"all_technologies\" column, i.e., converting each list of technologies into separate rows.\n",
    "\n",
    "4. Creating a new DataFrame based on the cross-tabulation, which counts the occurrences of each technology and joining it with the original DataFrame.\n",
    "\n",
    "5. Dropping the \"all_technologies\" and \"technologies\" columns as they are no longer needed.\n",
    "\n",
    "6. Converting the \"posted_date\" column to datetime format.\n",
    "\n",
    "7. Displaying the first few rows of the DataFrame."
   ],
   "metadata": {
    "collapsed": false
   },
   "id": "fd6d546f7e34cb78"
  },
  {
   "cell_type": "code",
   "outputs": [
    {
     "data": {
      "text/plain": "                     name posted_date                            company  AWS  \\\n0       Python-програміст  2024-05-01                 Дервішов І.Г., ФОП    0   \n1       Python-програміст  2024-04-29                        Vilmate LLC    0   \n2       Python-програміст  2024-04-29                           PNN Soft    1   \n3  Викладач програмування  2024-04-29  Hammer Gym, мережа фітнес-центрів    0   \n4       Python-програміст  2024-04-27                        Logivations    0   \n\n   Agile  Aiohttp  Backend-розробка  Beautiful Soup  C#  C++  ...  \\\n0      0        0                 0               0   0    0  ...   \n1      0        0                 0               0   0    0  ...   \n2      0        0                 0               0   1    1  ...   \n3      0        0                 0               0   0    0  ...   \n4      0        0                 0               0   0    0  ...   \n\n   Пунктуальність  Робота в команді  Робота з базою даних  Розробка API  \\\n0               0                 0                     0             0   \n1               0                 0                     0             0   \n2               0                 0                     0             0   \n3               0                 0                     0             0   \n4               0                 0                     0             0   \n\n   Саморозвиток  Стресостійкість  Уважність  Цілеспрямованість  \\\n0             0                0          0                  0   \n1             0                0          0                  0   \n2             0                0          0                  0   \n3             0                0          0                  0   \n4             0                0          0                  0   \n\n   впевненість щодо викладання  практичне програмування  \n0                            0                        0  \n1                            0                        0  \n2                            0                        0  \n3                            0                        0  \n4                            0                        0  \n\n[5 rows x 113 columns]",
      "text/html": "<div>\n<style scoped>\n    .dataframe tbody tr th:only-of-type {\n        vertical-align: middle;\n    }\n\n    .dataframe tbody tr th {\n        vertical-align: top;\n    }\n\n    .dataframe thead th {\n        text-align: right;\n    }\n</style>\n<table border=\"1\" class=\"dataframe\">\n  <thead>\n    <tr style=\"text-align: right;\">\n      <th></th>\n      <th>name</th>\n      <th>posted_date</th>\n      <th>company</th>\n      <th>AWS</th>\n      <th>Agile</th>\n      <th>Aiohttp</th>\n      <th>Backend-розробка</th>\n      <th>Beautiful Soup</th>\n      <th>C#</th>\n      <th>C++</th>\n      <th>...</th>\n      <th>Пунктуальність</th>\n      <th>Робота в команді</th>\n      <th>Робота з базою даних</th>\n      <th>Розробка API</th>\n      <th>Саморозвиток</th>\n      <th>Стресостійкість</th>\n      <th>Уважність</th>\n      <th>Цілеспрямованість</th>\n      <th>впевненість щодо викладання</th>\n      <th>практичне програмування</th>\n    </tr>\n  </thead>\n  <tbody>\n    <tr>\n      <th>0</th>\n      <td>Python-програміст</td>\n      <td>2024-05-01</td>\n      <td>Дервішов І.Г., ФОП</td>\n      <td>0</td>\n      <td>0</td>\n      <td>0</td>\n      <td>0</td>\n      <td>0</td>\n      <td>0</td>\n      <td>0</td>\n      <td>...</td>\n      <td>0</td>\n      <td>0</td>\n      <td>0</td>\n      <td>0</td>\n      <td>0</td>\n      <td>0</td>\n      <td>0</td>\n      <td>0</td>\n      <td>0</td>\n      <td>0</td>\n    </tr>\n    <tr>\n      <th>1</th>\n      <td>Python-програміст</td>\n      <td>2024-04-29</td>\n      <td>Vilmate LLC</td>\n      <td>0</td>\n      <td>0</td>\n      <td>0</td>\n      <td>0</td>\n      <td>0</td>\n      <td>0</td>\n      <td>0</td>\n      <td>...</td>\n      <td>0</td>\n      <td>0</td>\n      <td>0</td>\n      <td>0</td>\n      <td>0</td>\n      <td>0</td>\n      <td>0</td>\n      <td>0</td>\n      <td>0</td>\n      <td>0</td>\n    </tr>\n    <tr>\n      <th>2</th>\n      <td>Python-програміст</td>\n      <td>2024-04-29</td>\n      <td>PNN Soft</td>\n      <td>1</td>\n      <td>0</td>\n      <td>0</td>\n      <td>0</td>\n      <td>0</td>\n      <td>1</td>\n      <td>1</td>\n      <td>...</td>\n      <td>0</td>\n      <td>0</td>\n      <td>0</td>\n      <td>0</td>\n      <td>0</td>\n      <td>0</td>\n      <td>0</td>\n      <td>0</td>\n      <td>0</td>\n      <td>0</td>\n    </tr>\n    <tr>\n      <th>3</th>\n      <td>Викладач програмування</td>\n      <td>2024-04-29</td>\n      <td>Hammer Gym, мережа фітнес-центрів</td>\n      <td>0</td>\n      <td>0</td>\n      <td>0</td>\n      <td>0</td>\n      <td>0</td>\n      <td>0</td>\n      <td>0</td>\n      <td>...</td>\n      <td>0</td>\n      <td>0</td>\n      <td>0</td>\n      <td>0</td>\n      <td>0</td>\n      <td>0</td>\n      <td>0</td>\n      <td>0</td>\n      <td>0</td>\n      <td>0</td>\n    </tr>\n    <tr>\n      <th>4</th>\n      <td>Python-програміст</td>\n      <td>2024-04-27</td>\n      <td>Logivations</td>\n      <td>0</td>\n      <td>0</td>\n      <td>0</td>\n      <td>0</td>\n      <td>0</td>\n      <td>0</td>\n      <td>0</td>\n      <td>...</td>\n      <td>0</td>\n      <td>0</td>\n      <td>0</td>\n      <td>0</td>\n      <td>0</td>\n      <td>0</td>\n      <td>0</td>\n      <td>0</td>\n      <td>0</td>\n      <td>0</td>\n    </tr>\n  </tbody>\n</table>\n<p>5 rows × 113 columns</p>\n</div>"
     },
     "execution_count": 75,
     "metadata": {},
     "output_type": "execute_result"
    }
   ],
   "source": [
    "technologies = df[\"technologies\"].str.split(\",\").values.tolist()\n",
    "\n",
    "df[\"all_technologies\"] = technologies\n",
    "\n",
    "all_technologies = df[\"all_technologies\"].explode()\n",
    "\n",
    "df = df.join(\n",
    "   pd.crosstab(\n",
    "       all_technologies.index, all_technologies\n",
    "   )\n",
    ")\n",
    "\n",
    "df = df.drop(columns=[\"all_technologies\", \"technologies\"])\n",
    "\n",
    "df[\"posted_date\"] = pd.to_datetime(df[\"posted_date\"])\n",
    "\n",
    "df.head()"
   ],
   "metadata": {
    "collapsed": false,
    "ExecuteTime": {
     "end_time": "2024-05-02T15:45:20.851199Z",
     "start_time": "2024-05-02T15:45:20.816536100Z"
    }
   },
   "id": "e095f7cf6bc3e0ae",
   "execution_count": 75
  }
 ],
 "metadata": {
  "kernelspec": {
   "display_name": "Python 3",
   "language": "python",
   "name": "python3"
  },
  "language_info": {
   "codemirror_mode": {
    "name": "ipython",
    "version": 2
   },
   "file_extension": ".py",
   "mimetype": "text/x-python",
   "name": "python",
   "nbconvert_exporter": "python",
   "pygments_lexer": "ipython2",
   "version": "2.7.6"
  }
 },
 "nbformat": 4,
 "nbformat_minor": 5
}
